{
 "cells": [
  {
   "cell_type": "code",
   "execution_count": 1,
   "id": "97067da3",
   "metadata": {},
   "outputs": [
    {
     "name": "stderr",
     "output_type": "stream",
     "text": [
      "C:\\Users\\Wim\\anaconda3\\lib\\site-packages\\pydantic\\_internal\\_config.py:341: UserWarning: Valid config keys have changed in V2:\n",
      "* 'allow_population_by_field_name' has been renamed to 'populate_by_name'\n",
      "* 'smart_union' has been removed\n",
      "  warnings.warn(message, UserWarning)\n"
     ]
    }
   ],
   "source": [
    "import os\n",
    "import cohere"
   ]
  },
  {
   "cell_type": "markdown",
   "id": "827e5f76",
   "metadata": {},
   "source": [
    "Make sure to replace the variable *API_key* by your own key from Cohere (see the [Cohere website] for more information)."
   ]
  },
  {
   "cell_type": "code",
   "execution_count": 2,
   "id": "f13417df",
   "metadata": {},
   "outputs": [],
   "source": [
    "API_key = os.environ[\"COHERE_API_KEY\"]\n",
    "co = cohere.Client(API_key)"
   ]
  },
  {
   "cell_type": "markdown",
   "id": "0e661d4f",
   "metadata": {},
   "source": [
    "We can now send a request to the Cohere API with a prompt or message and receive the answer. "
   ]
  },
  {
   "cell_type": "code",
   "execution_count": 3,
   "id": "2970fb20",
   "metadata": {},
   "outputs": [
    {
     "name": "stdout",
     "output_type": "stream",
     "text": [
      "Hello! How can I help you today?\n"
     ]
    }
   ],
   "source": [
    "response = co.chat(message=\"hello world!\")\n",
    "print(response.text)"
   ]
  },
  {
   "cell_type": "markdown",
   "id": "4a2f8869",
   "metadata": {},
   "source": [
    "You can now experiment with the message en the functionalities of the Cohere API. You can also try another API."
   ]
  },
  {
   "cell_type": "code",
   "execution_count": null,
   "id": "34163056",
   "metadata": {},
   "outputs": [],
   "source": []
  },
  {
   "cell_type": "code",
   "execution_count": null,
   "id": "6b9daa68",
   "metadata": {},
   "outputs": [],
   "source": []
  },
  {
   "cell_type": "code",
   "execution_count": null,
   "id": "707e5599",
   "metadata": {},
   "outputs": [],
   "source": []
  }
 ],
 "metadata": {
  "kernelspec": {
   "display_name": "Python 3 (ipykernel)",
   "language": "python",
   "name": "python3"
  },
  "language_info": {
   "codemirror_mode": {
    "name": "ipython",
    "version": 3
   },
   "file_extension": ".py",
   "mimetype": "text/x-python",
   "name": "python",
   "nbconvert_exporter": "python",
   "pygments_lexer": "ipython3",
   "version": "3.9.7"
  }
 },
 "nbformat": 4,
 "nbformat_minor": 5
}
